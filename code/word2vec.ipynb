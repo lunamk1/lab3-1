{
 "cells": [
  {
   "cell_type": "markdown",
   "id": "95e3c2e6-4d27-4c86-91f2-eadf277c86e9",
   "metadata": {},
   "source": [
    "# Part 1: word2vec embedding"
   ]
  },
  {
   "cell_type": "code",
   "execution_count": 17,
   "id": "b1a6666c-9e89-40b7-911c-0e378af0815a",
   "metadata": {},
   "outputs": [],
   "source": [
    "import sys\n",
    "sys.path.append(\"..\")"
   ]
  },
  {
   "cell_type": "code",
   "execution_count": 18,
   "id": "18f1a4ff-f27e-4ce4-aa4a-5457a475b206",
   "metadata": {},
   "outputs": [],
   "source": [
    "# use Python 3 kernel if possible, idk why the env_214 wouldn't let us to download outside pkg..\n",
    "\n",
    "# !pip install gensim\n",
    "import gensim"
   ]
  },
  {
   "cell_type": "code",
   "execution_count": 19,
   "id": "97006a30-3a6f-4a29-bb8e-a24a6618adcf",
   "metadata": {},
   "outputs": [],
   "source": [
    "import os\n",
    "import pickle \n",
    "import numpy as np\n",
    "from sklearn.model_selection import train_test_split\n",
    "import gensim.downloader as api\n",
    "from preprocessing import downsample_word_vectors, make_delayed"
   ]
  },
  {
   "cell_type": "code",
   "execution_count": 20,
   "id": "09bcec67-5b23-4034-a2d8-d6b48c9de186",
   "metadata": {},
   "outputs": [
    {
     "name": "stdout",
     "output_type": "stream",
     "text": [
      "/ocean/projects/mth240012p/shared/data/raw_text.pkl\n"
     ]
    }
   ],
   "source": [
    "# set up path\n",
    "data_path = \"/ocean/projects/mth240012p/shared/data\"\n",
    "raw_text_path = os.path.join(data_path, \"raw_text.pkl\")\n",
    "print(raw_text_path)"
   ]
  },
  {
   "cell_type": "code",
   "execution_count": 21,
   "id": "e2a272cf-cb5c-4ab6-a576-d21bd4bc0a69",
   "metadata": {},
   "outputs": [],
   "source": [
    "# ----- Data split -----\n",
    "\n",
    "# load raw text\n",
    "with open(raw_text_path, \"rb\") as f:\n",
    "    raw_text = pickle.load(f)\n",
    "\n",
    "# train/test split\n",
    "story_names = list(raw_text.keys())\n",
    "train_stories, test_stories = train_test_split(story_names, test_size=0.2, random_state=42)"
   ]
  },
  {
   "cell_type": "code",
   "execution_count": 22,
   "id": "41fae2c8-6c76-4e92-a22d-29f2832a0976",
   "metadata": {},
   "outputs": [
    {
     "name": "stdout",
     "output_type": "stream",
     "text": [
      "[--------------------------------------------------] 1.4% 23.4/1662.8MB downloaded"
     ]
    },
    {
     "name": "stderr",
     "output_type": "stream",
     "text": [
      "IOPub message rate exceeded.\n",
      "The Jupyter server will temporarily stop sending output\n",
      "to the client in order to avoid crashing it.\n",
      "To change this limit, set the config variable\n",
      "`--ServerApp.iopub_msg_rate_limit`.\n",
      "\n",
      "Current values:\n",
      "ServerApp.iopub_msg_rate_limit=1000.0 (msgs/sec)\n",
      "ServerApp.rate_limit_window=3.0 (secs)\n",
      "\n"
     ]
    },
    {
     "name": "stdout",
     "output_type": "stream",
     "text": [
      "[====----------------------------------------------] 9.3% 153.8/1662.8MB downloaded"
     ]
    },
    {
     "name": "stderr",
     "output_type": "stream",
     "text": [
      "IOPub message rate exceeded.\n",
      "The Jupyter server will temporarily stop sending output\n",
      "to the client in order to avoid crashing it.\n",
      "To change this limit, set the config variable\n",
      "`--ServerApp.iopub_msg_rate_limit`.\n",
      "\n",
      "Current values:\n",
      "ServerApp.iopub_msg_rate_limit=1000.0 (msgs/sec)\n",
      "ServerApp.rate_limit_window=3.0 (secs)\n",
      "\n"
     ]
    },
    {
     "name": "stdout",
     "output_type": "stream",
     "text": [
      "[========------------------------------------------] 17.1% 284.9/1662.8MB downloaded"
     ]
    },
    {
     "name": "stderr",
     "output_type": "stream",
     "text": [
      "IOPub message rate exceeded.\n",
      "The Jupyter server will temporarily stop sending output\n",
      "to the client in order to avoid crashing it.\n",
      "To change this limit, set the config variable\n",
      "`--ServerApp.iopub_msg_rate_limit`.\n",
      "\n",
      "Current values:\n",
      "ServerApp.iopub_msg_rate_limit=1000.0 (msgs/sec)\n",
      "ServerApp.rate_limit_window=3.0 (secs)\n",
      "\n"
     ]
    },
    {
     "name": "stdout",
     "output_type": "stream",
     "text": [
      "[============--------------------------------------] 25.0% 416.2/1662.8MB downloaded"
     ]
    },
    {
     "name": "stderr",
     "output_type": "stream",
     "text": [
      "IOPub message rate exceeded.\n",
      "The Jupyter server will temporarily stop sending output\n",
      "to the client in order to avoid crashing it.\n",
      "To change this limit, set the config variable\n",
      "`--ServerApp.iopub_msg_rate_limit`.\n",
      "\n",
      "Current values:\n",
      "ServerApp.iopub_msg_rate_limit=1000.0 (msgs/sec)\n",
      "ServerApp.rate_limit_window=3.0 (secs)\n",
      "\n"
     ]
    },
    {
     "name": "stdout",
     "output_type": "stream",
     "text": [
      "[================----------------------------------] 32.9% 547.8/1662.8MB downloaded"
     ]
    },
    {
     "name": "stderr",
     "output_type": "stream",
     "text": [
      "IOPub message rate exceeded.\n",
      "The Jupyter server will temporarily stop sending output\n",
      "to the client in order to avoid crashing it.\n",
      "To change this limit, set the config variable\n",
      "`--ServerApp.iopub_msg_rate_limit`.\n",
      "\n",
      "Current values:\n",
      "ServerApp.iopub_msg_rate_limit=1000.0 (msgs/sec)\n",
      "ServerApp.rate_limit_window=3.0 (secs)\n",
      "\n"
     ]
    },
    {
     "name": "stdout",
     "output_type": "stream",
     "text": [
      "[====================------------------------------] 40.9% 679.9/1662.8MB downloaded"
     ]
    },
    {
     "name": "stderr",
     "output_type": "stream",
     "text": [
      "IOPub message rate exceeded.\n",
      "The Jupyter server will temporarily stop sending output\n",
      "to the client in order to avoid crashing it.\n",
      "To change this limit, set the config variable\n",
      "`--ServerApp.iopub_msg_rate_limit`.\n",
      "\n",
      "Current values:\n",
      "ServerApp.iopub_msg_rate_limit=1000.0 (msgs/sec)\n",
      "ServerApp.rate_limit_window=3.0 (secs)\n",
      "\n"
     ]
    },
    {
     "name": "stdout",
     "output_type": "stream",
     "text": [
      "[========================--------------------------] 48.8% 811.2/1662.8MB downloaded"
     ]
    },
    {
     "name": "stderr",
     "output_type": "stream",
     "text": [
      "IOPub message rate exceeded.\n",
      "The Jupyter server will temporarily stop sending output\n",
      "to the client in order to avoid crashing it.\n",
      "To change this limit, set the config variable\n",
      "`--ServerApp.iopub_msg_rate_limit`.\n",
      "\n",
      "Current values:\n",
      "ServerApp.iopub_msg_rate_limit=1000.0 (msgs/sec)\n",
      "ServerApp.rate_limit_window=3.0 (secs)\n",
      "\n"
     ]
    },
    {
     "name": "stdout",
     "output_type": "stream",
     "text": [
      "[============================----------------------] 56.7% 943.3/1662.8MB downloaded"
     ]
    },
    {
     "name": "stderr",
     "output_type": "stream",
     "text": [
      "IOPub message rate exceeded.\n",
      "The Jupyter server will temporarily stop sending output\n",
      "to the client in order to avoid crashing it.\n",
      "To change this limit, set the config variable\n",
      "`--ServerApp.iopub_msg_rate_limit`.\n",
      "\n",
      "Current values:\n",
      "ServerApp.iopub_msg_rate_limit=1000.0 (msgs/sec)\n",
      "ServerApp.rate_limit_window=3.0 (secs)\n",
      "\n"
     ]
    },
    {
     "name": "stdout",
     "output_type": "stream",
     "text": [
      "[================================------------------] 64.6% 1074.4/1662.8MB downloaded"
     ]
    },
    {
     "name": "stderr",
     "output_type": "stream",
     "text": [
      "IOPub message rate exceeded.\n",
      "The Jupyter server will temporarily stop sending output\n",
      "to the client in order to avoid crashing it.\n",
      "To change this limit, set the config variable\n",
      "`--ServerApp.iopub_msg_rate_limit`.\n",
      "\n",
      "Current values:\n",
      "ServerApp.iopub_msg_rate_limit=1000.0 (msgs/sec)\n",
      "ServerApp.rate_limit_window=3.0 (secs)\n",
      "\n"
     ]
    },
    {
     "name": "stdout",
     "output_type": "stream",
     "text": [
      "[====================================--------------] 72.5% 1206.1/1662.8MB downloaded"
     ]
    },
    {
     "name": "stderr",
     "output_type": "stream",
     "text": [
      "IOPub message rate exceeded.\n",
      "The Jupyter server will temporarily stop sending output\n",
      "to the client in order to avoid crashing it.\n",
      "To change this limit, set the config variable\n",
      "`--ServerApp.iopub_msg_rate_limit`.\n",
      "\n",
      "Current values:\n",
      "ServerApp.iopub_msg_rate_limit=1000.0 (msgs/sec)\n",
      "ServerApp.rate_limit_window=3.0 (secs)\n",
      "\n"
     ]
    },
    {
     "name": "stdout",
     "output_type": "stream",
     "text": [
      "[========================================----------] 80.5% 1337.9/1662.8MB downloaded"
     ]
    },
    {
     "name": "stderr",
     "output_type": "stream",
     "text": [
      "IOPub message rate exceeded.\n",
      "The Jupyter server will temporarily stop sending output\n",
      "to the client in order to avoid crashing it.\n",
      "To change this limit, set the config variable\n",
      "`--ServerApp.iopub_msg_rate_limit`.\n",
      "\n",
      "Current values:\n",
      "ServerApp.iopub_msg_rate_limit=1000.0 (msgs/sec)\n",
      "ServerApp.rate_limit_window=3.0 (secs)\n",
      "\n"
     ]
    },
    {
     "name": "stdout",
     "output_type": "stream",
     "text": [
      "[============================================------] 88.4% 1470.1/1662.8MB downloaded"
     ]
    },
    {
     "name": "stderr",
     "output_type": "stream",
     "text": [
      "IOPub message rate exceeded.\n",
      "The Jupyter server will temporarily stop sending output\n",
      "to the client in order to avoid crashing it.\n",
      "To change this limit, set the config variable\n",
      "`--ServerApp.iopub_msg_rate_limit`.\n",
      "\n",
      "Current values:\n",
      "ServerApp.iopub_msg_rate_limit=1000.0 (msgs/sec)\n",
      "ServerApp.rate_limit_window=3.0 (secs)\n",
      "\n"
     ]
    },
    {
     "name": "stdout",
     "output_type": "stream",
     "text": [
      "[================================================--] 96.3% 1602.0/1662.8MB downloaded"
     ]
    },
    {
     "name": "stderr",
     "output_type": "stream",
     "text": [
      "IOPub message rate exceeded.\n",
      "The Jupyter server will temporarily stop sending output\n",
      "to the client in order to avoid crashing it.\n",
      "To change this limit, set the config variable\n",
      "`--ServerApp.iopub_msg_rate_limit`.\n",
      "\n",
      "Current values:\n",
      "ServerApp.iopub_msg_rate_limit=1000.0 (msgs/sec)\n",
      "ServerApp.rate_limit_window=3.0 (secs)\n",
      "\n"
     ]
    },
    {
     "name": "stdout",
     "output_type": "stream",
     "text": [
      "\n",
      "sweetaspie: Word2Vec shape = (697, 300)\n",
      "thatthingonmyarm: Word2Vec shape = (2073, 300)\n",
      "tildeath: Word2Vec shape = (2297, 300)\n",
      "indianapolis: Word2Vec shape = (1554, 300)\n",
      "lawsthatchokecreativity: Word2Vec shape = (2084, 300)\n",
      "golfclubbing: Word2Vec shape = (1211, 300)\n",
      "jugglingandjesus: Word2Vec shape = (887, 300)\n",
      "shoppinginchina: Word2Vec shape = (1731, 300)\n",
      "cocoonoflove: Word2Vec shape = (1984, 300)\n",
      "hangtime: Word2Vec shape = (1927, 300)\n",
      "beneaththemushroomcloud: Word2Vec shape = (1916, 300)\n",
      "dialogue4: Word2Vec shape = (1692, 300)\n",
      "thepostmanalwayscalls: Word2Vec shape = (2220, 300)\n",
      "stumblinginthedark: Word2Vec shape = (2681, 300)\n",
      "kiksuya: Word2Vec shape = (1699, 300)\n",
      "haveyoumethimyet: Word2Vec shape = (2985, 300)\n",
      "theinterview: Word2Vec shape = (1079, 300)\n",
      "againstthewind: Word2Vec shape = (838, 300)\n",
      "tetris: Word2Vec shape = (1350, 300)\n",
      "canplanetearthfeedtenbillionpeoplepart2: Word2Vec shape = (2532, 300)\n",
      "alternateithicatom: Word2Vec shape = (2174, 300)\n",
      "goldiethegoldfish: Word2Vec shape = (1680, 300)\n",
      "seedpotatoesofleningrad: Word2Vec shape = (1376, 300)\n",
      "onapproachtopluto: Word2Vec shape = (1357, 300)\n",
      "canplanetearthfeedtenbillionpeoplepart1: Word2Vec shape = (2341, 300)\n",
      "bluehope: Word2Vec shape = (1941, 300)\n",
      "superheroesjustforeachother: Word2Vec shape = (1440, 300)\n",
      "howtodraw: Word2Vec shape = (1964, 300)\n",
      "myfirstdaywiththeyankees: Word2Vec shape = (2786, 300)\n",
      "thumbsup: Word2Vec shape = (3083, 300)\n",
      "avatar: Word2Vec shape = (1469, 300)\n",
      "mayorofthefreaks: Word2Vec shape = (3274, 300)\n",
      "gangstersandcookies: Word2Vec shape = (1547, 300)\n",
      "breakingupintheageofgoogle: Word2Vec shape = (3476, 300)\n",
      "forgettingfear: Word2Vec shape = (1240, 300)\n",
      "waitingtogo: Word2Vec shape = (1587, 300)\n",
      "firetestforlove: Word2Vec shape = (2286, 300)\n",
      "goingthelibertyway: Word2Vec shape = (2471, 300)\n",
      "thefreedomridersandme: Word2Vec shape = (1606, 300)\n",
      "exorcism: Word2Vec shape = (2949, 300)\n",
      "itsabox: Word2Vec shape = (1708, 300)\n",
      "inamoment: Word2Vec shape = (966, 300)\n",
      "afearstrippedbare: Word2Vec shape = (1763, 300)\n",
      "swimmingwithastronauts: Word2Vec shape = (2127, 300)\n",
      "ifthishaircouldtalk: Word2Vec shape = (1854, 300)\n",
      "whenmothersbullyback: Word2Vec shape = (1488, 300)\n",
      "vixenandtheussr: Word2Vec shape = (2074, 300)\n",
      "adollshouse: Word2Vec shape = (1656, 300)\n",
      "catfishingstrangerstofindmyself: Word2Vec shape = (1522, 300)\n",
      "dialogue2: Word2Vec shape = (1835, 300)\n",
      "theshower: Word2Vec shape = (1383, 300)\n",
      "igrewupinthewestborobaptistchurch: Word2Vec shape = (2449, 300)\n",
      "thesurprisingthingilearnedsailingsoloaroundtheworld: Word2Vec shape = (2855, 300)\n",
      "odetostepfather: Word2Vec shape = (2675, 300)\n",
      "threemonths: Word2Vec shape = (2062, 300)\n",
      "theclosetthatateeverything: Word2Vec shape = (1928, 300)\n",
      "souls: Word2Vec shape = (1868, 300)\n",
      "reachingoutbetweenthebars: Word2Vec shape = (1490, 300)\n",
      "fromboyhoodtofatherhood: Word2Vec shape = (2755, 300)\n",
      "naked: Word2Vec shape = (3218, 300)\n",
      "treasureisland: Word2Vec shape = (1763, 300)\n",
      "penpal: Word2Vec shape = (1592, 300)\n",
      "gpsformylostidentity: Word2Vec shape = (1650, 300)\n",
      "adventuresinsayingyes: Word2Vec shape = (2309, 300)\n",
      "dialogue1: Word2Vec shape = (934, 300)\n",
      "theadvancedbeginner: Word2Vec shape = (1624, 300)\n",
      "singlewomanseekingmanwich: Word2Vec shape = (1486, 300)\n",
      "dialogue5: Word2Vec shape = (1765, 300)\n",
      "undertheinfluence: Word2Vec shape = (1641, 300)\n",
      "leavingbaghdad: Word2Vec shape = (1976, 300)\n",
      "thetriangleshirtwaistconnection: Word2Vec shape = (1448, 300)\n",
      "lifeanddeathontheoregontrail: Word2Vec shape = (2389, 300)\n",
      "onlyonewaytofindout: Word2Vec shape = (1889, 300)\n",
      "comingofageondeathrow: Word2Vec shape = (2212, 300)\n",
      "legacy: Word2Vec shape = (1893, 300)\n",
      "canadageeseandddp: Word2Vec shape = (2559, 300)\n",
      "cautioneating: Word2Vec shape = (1587, 300)\n",
      "listo: Word2Vec shape = (2371, 300)\n",
      "thesecrettomarriage: Word2Vec shape = (1486, 300)\n",
      "googlingstrangersandkentuckybluegrass: Word2Vec shape = (2547, 300)\n",
      "christmas1940: Word2Vec shape = (1261, 300)\n",
      "birthofanation: Word2Vec shape = (1590, 300)\n",
      "quietfire: Word2Vec shape = (1905, 300)\n",
      "becomingindian: Word2Vec shape = (2619, 300)\n",
      "escapingfromadirediagnosis: Word2Vec shape = (1423, 300)\n",
      "wheretheressmoke: Word2Vec shape = (1839, 300)\n",
      "whyimustspeakoutaboutclimatechange: Word2Vec shape = (2336, 300)\n",
      "metsmagic: Word2Vec shape = (1477, 300)\n",
      "learninghumanityfromdogs: Word2Vec shape = (1484, 300)\n",
      "myfathershands: Word2Vec shape = (942, 300)\n",
      "thecurse: Word2Vec shape = (2054, 300)\n",
      "findingmyownrescuer: Word2Vec shape = (1498, 300)\n",
      "food: Word2Vec shape = (2064, 300)\n",
      "eyespy: Word2Vec shape = (2336, 300)\n",
      "thetiniestbouquet: Word2Vec shape = (964, 300)\n",
      "buck: Word2Vec shape = (1677, 300)\n",
      "wildwomenanddancingqueens: Word2Vec shape = (1218, 300)\n",
      "stagefright: Word2Vec shape = (2067, 300)\n",
      "afatherscover: Word2Vec shape = (1182, 300)\n",
      "marryamanwholoveshismother: Word2Vec shape = (1532, 300)\n",
      "backsideofthestorm: Word2Vec shape = (1964, 300)\n",
      "dialogue3: Word2Vec shape = (2013, 300)\n",
      "lifereimagined: Word2Vec shape = (1800, 300)\n",
      "dialogue6: Word2Vec shape = (1986, 300)\n",
      "mybackseatviewofagreatromance: Word2Vec shape = (1794, 300)\n",
      "notontheusualtour: Word2Vec shape = (1431, 300)\n",
      "canplanetearthfeedtenbillionpeoplepart3: Word2Vec shape = (2066, 300)\n",
      "life: Word2Vec shape = (2209, 300)\n",
      "sloth: Word2Vec shape = (2403, 300)\n"
     ]
    }
   ],
   "source": [
    "# ----- 1. Generate embedding -----\n",
    "\n",
    "# load pre-trained word2vec (GoogleNews, 300-D)\n",
    "word2vec_model = api.load(\"word2vec-google-news-300\")\n",
    "\n",
    "# convert for all stories\n",
    "word_vectors = {}  # dictionary: story -> (T, 300)\n",
    "for story in story_names:\n",
    "    words = raw_text[story].data\n",
    "    vectors = []\n",
    "    for word in words:\n",
    "        if word in word2vec_model:\n",
    "            vectors.append(word2vec_model[word])\n",
    "        else:\n",
    "            vectors.append(np.zeros(300))\n",
    "    word_vectors[story] = np.vstack(vectors)\n",
    "    print(f\"{story}: Word2Vec shape = {word_vectors[story].shape}\") # expected shape: (T, 300)"
   ]
  },
  {
   "cell_type": "code",
   "execution_count": 25,
   "id": "f81808fd-e475-4233-a47a-3ee60d9626fd",
   "metadata": {},
   "outputs": [],
   "source": [
    "# ----- 2. Downsaple and trim -----\n",
    "\n",
    "wordseqs = raw_text\n",
    "stories = train_stories + test_stories\n",
    "\n",
    "def align_embeddings_with_fmri(stories, word_vectors, wordseqs, subject_path):\n",
    "    \"\"\"\n",
    "    aligns Word2Vec embeddings with FMRI recordings.\n",
    "    returns trimmed X and Y matched by timepoints.\n",
    "    \"\"\"\n",
    "    # downsample the embeddings\n",
    "    downsampled = downsample_word_vectors(stories, word_vectors, wordseqs)\n",
    "\n",
    "    # trim the first 5 and last 10 seconds\n",
    "    X_trimmed = {}\n",
    "    Y_trimmed = {}\n",
    "\n",
    "    for story in stories:\n",
    "        bold_path = os.path.join(subject_path, f\"{story}.npy\")\n",
    "        try:\n",
    "            Y = np.load(bold_path)\n",
    "            X = downsampled[story]\n",
    "\n",
    "            # match shortest timepoints across both\n",
    "            min_len = min(X.shape[0], Y.shape[0])\n",
    "\n",
    "            X_trimmed[story] = X[:min_len, :]\n",
    "            Y_trimmed[story] = Y[:min_len, :]\n",
    "\n",
    "            print(f\"{story}: aligned length = {min_len}\")\n",
    "        except FileNotFoundError:\n",
    "            print(f\"FMRI file for '{story}' not found, skipping.\")\n",
    "        except Exception as e:\n",
    "            print(f\"Error with {story}: {e}\")\n",
    "    \n",
    "    return X_trimmed, Y_trimmed"
   ]
  },
  {
   "cell_type": "code",
   "execution_count": 24,
   "id": "df0ea62a-7e32-4f2b-b8c1-0f9cd3c89d94",
   "metadata": {},
   "outputs": [
    {
     "name": "stdout",
     "output_type": "stream",
     "text": [
      "theadvancedbeginner: aligned length = 318\n",
      "superheroesjustforeachother: aligned length = 325\n",
      "seedpotatoesofleningrad: aligned length = 281\n",
      "mayorofthefreaks: aligned length = 475\n",
      "adollshouse: aligned length = 241\n",
      "cautioneating: aligned length = 279\n",
      "haveyoumethimyet: aligned length = 496\n",
      "ifthishaircouldtalk: aligned length = 249\n",
      "myfathershands: aligned length = 170\n",
      "thecurse: aligned length = 407\n",
      "hangtime: aligned length = 324\n",
      "breakingupintheageofgoogle: aligned length = 521\n",
      "theclosetthatateeverything: aligned length = 314\n",
      "leavingbaghdad: aligned length = 327\n",
      "FMRI file for 'myfirstdaywiththeyankees' not found, skipping.\n",
      "itsabox: aligned length = 355\n",
      "golfclubbing: aligned length = 201\n",
      "odetostepfather: aligned length = 404\n",
      "gpsformylostidentity: aligned length = 326\n",
      "exorcism: aligned length = 467\n",
      "waitingtogo: aligned length = 349\n",
      "theinterview: aligned length = 221\n",
      "FMRI file for 'dialogue6' not found, skipping.\n",
      "forgettingfear: aligned length = 237\n",
      "FMRI file for 'dialogue5' not found, skipping.\n",
      "shoppinginchina: aligned length = 337\n",
      "swimmingwithastronauts: aligned length = 385\n",
      "singlewomanseekingmanwich: aligned length = 297\n",
      "comingofageondeathrow: aligned length = 349\n",
      "howtodraw: aligned length = 354\n",
      "canplanetearthfeedtenbillionpeoplepart2: aligned length = 545\n",
      "learninghumanityfromdogs: aligned length = 313\n",
      "eyespy: aligned length = 379\n",
      "bluehope: aligned length = 409\n",
      "cocoonoflove: aligned length = 429\n",
      "FMRI file for 'dialogue3' not found, skipping.\n",
      "FMRI file for 'dialogue2' not found, skipping.\n",
      "stumblinginthedark: aligned length = 489\n",
      "listo: aligned length = 360\n",
      "canplanetearthfeedtenbillionpeoplepart1: aligned length = 500\n",
      "indianapolis: aligned length = 302\n",
      "againstthewind: aligned length = 170\n",
      "thefreedomridersandme: aligned length = 334\n",
      "wheretheressmoke: aligned length = 291\n",
      "jugglingandjesus: aligned length = 193\n",
      "mybackseatviewofagreatromance: aligned length = 384\n",
      "buck: aligned length = 332\n",
      "findingmyownrescuer: aligned length = 372\n",
      "threemonths: aligned length = 353\n",
      "theshower: aligned length = 392\n",
      "afatherscover: aligned length = 312\n",
      "vixenandtheussr: aligned length = 391\n",
      "becomingindian: aligned length = 388\n",
      "penpal: aligned length = 255\n",
      "notontheusualtour: aligned length = 245\n",
      "backsideofthestorm: aligned length = 345\n",
      "inamoment: aligned length = 205\n",
      "fromboyhoodtofatherhood: aligned length = 348\n",
      "catfishingstrangerstofindmyself: aligned length = 326\n",
      "thetiniestbouquet: aligned length = 171\n",
      "reachingoutbetweenthebars: aligned length = 296\n",
      "canadageeseandddp: aligned length = 430\n",
      "gangstersandcookies: aligned length = 256\n",
      "sloth: aligned length = 437\n",
      "naked: aligned length = 422\n",
      "adventuresinsayingyes: aligned length = 391\n",
      "canplanetearthfeedtenbillionpeoplepart3: aligned length = 429\n",
      "goingthelibertyway: aligned length = 394\n",
      "thumbsup: aligned length = 414\n",
      "stagefright: aligned length = 293\n",
      "thatthingonmyarm: aligned length = 434\n",
      "thesurprisingthingilearnedsailingsoloaroundtheworld: aligned length = 480\n",
      "goldiethegoldfish: aligned length = 317\n",
      "tildeath: aligned length = 323\n",
      "onapproachtopluto: aligned length = 271\n",
      "metsmagic: aligned length = 228\n",
      "marryamanwholoveshismother: aligned length = 355\n",
      "legacy: aligned length = 400\n",
      "whyimustspeakoutaboutclimatechange: aligned length = 511\n",
      "quietfire: aligned length = 455\n",
      "alternateithicatom: aligned length = 343\n",
      "treasureisland: aligned length = 394\n",
      "lifeanddeathontheoregontrail: aligned length = 361\n",
      "kiksuya: aligned length = 332\n",
      "food: aligned length = 370\n",
      "igrewupinthewestborobaptistchurch: aligned length = 439\n",
      "lifereimagined: aligned length = 327\n",
      "thesecrettomarriage: aligned length = 292\n",
      "beneaththemushroomcloud: aligned length = 342\n",
      "lawsthatchokecreativity: aligned length = 434\n",
      "escapingfromadirediagnosis: aligned length = 343\n",
      "FMRI file for 'dialogue1' not found, skipping.\n",
      "undertheinfluence: aligned length = 304\n",
      "avatar: aligned length = 367\n",
      "whenmothersbullyback: aligned length = 307\n",
      "wildwomenanddancingqueens: aligned length = 189\n",
      "FMRI file for 'dialogue4' not found, skipping.\n",
      "googlingstrangersandkentuckybluegrass: aligned length = 434\n",
      "christmas1940: aligned length = 243\n",
      "sweetaspie: aligned length = 157\n",
      "birthofanation: aligned length = 264\n",
      "tetris: aligned length = 280\n",
      "thetriangleshirtwaistconnection: aligned length = 202\n",
      "souls: aligned length = 355\n",
      "FMRI file for 'onlyonewaytofindout' not found, skipping.\n",
      "life: aligned length = 430\n",
      "afearstrippedbare: aligned length = 427\n",
      "thepostmanalwayscalls: aligned length = 454\n",
      "firetestforlove: aligned length = 318\n"
     ]
    }
   ],
   "source": [
    "subject_path = os.path.join(data_path, \"subject2\")\n",
    "stories = train_stories + test_stories\n",
    "\n",
    "X_trimmed, Y_trimmed = align_embeddings_with_fmri(stories, word_vectors, raw_text, subject_path)"
   ]
  },
  {
   "cell_type": "code",
   "execution_count": 27,
   "id": "c367398a-f483-4356-8aee-7773a07e8c70",
   "metadata": {},
   "outputs": [
    {
     "name": "stdout",
     "output_type": "stream",
     "text": [
      "theadvancedbeginner: lagged shape = (318, 1200)\n",
      "superheroesjustforeachother: lagged shape = (325, 1200)\n",
      "seedpotatoesofleningrad: lagged shape = (281, 1200)\n",
      "mayorofthefreaks: lagged shape = (475, 1200)\n",
      "adollshouse: lagged shape = (241, 1200)\n",
      "cautioneating: lagged shape = (279, 1200)\n",
      "haveyoumethimyet: lagged shape = (496, 1200)\n",
      "ifthishaircouldtalk: lagged shape = (249, 1200)\n",
      "myfathershands: lagged shape = (170, 1200)\n",
      "thecurse: lagged shape = (407, 1200)\n",
      "hangtime: lagged shape = (324, 1200)\n",
      "breakingupintheageofgoogle: lagged shape = (521, 1200)\n",
      "theclosetthatateeverything: lagged shape = (314, 1200)\n",
      "leavingbaghdad: lagged shape = (327, 1200)\n",
      "itsabox: lagged shape = (355, 1200)\n",
      "golfclubbing: lagged shape = (201, 1200)\n",
      "odetostepfather: lagged shape = (404, 1200)\n",
      "gpsformylostidentity: lagged shape = (326, 1200)\n",
      "exorcism: lagged shape = (467, 1200)\n",
      "waitingtogo: lagged shape = (349, 1200)\n",
      "theinterview: lagged shape = (221, 1200)\n",
      "forgettingfear: lagged shape = (237, 1200)\n",
      "shoppinginchina: lagged shape = (337, 1200)\n",
      "swimmingwithastronauts: lagged shape = (385, 1200)\n",
      "singlewomanseekingmanwich: lagged shape = (297, 1200)\n",
      "comingofageondeathrow: lagged shape = (349, 1200)\n",
      "howtodraw: lagged shape = (354, 1200)\n",
      "canplanetearthfeedtenbillionpeoplepart2: lagged shape = (545, 1200)\n",
      "learninghumanityfromdogs: lagged shape = (313, 1200)\n",
      "eyespy: lagged shape = (379, 1200)\n",
      "bluehope: lagged shape = (409, 1200)\n",
      "cocoonoflove: lagged shape = (429, 1200)\n",
      "stumblinginthedark: lagged shape = (489, 1200)\n",
      "listo: lagged shape = (360, 1200)\n",
      "canplanetearthfeedtenbillionpeoplepart1: lagged shape = (500, 1200)\n",
      "indianapolis: lagged shape = (302, 1200)\n",
      "againstthewind: lagged shape = (170, 1200)\n",
      "thefreedomridersandme: lagged shape = (334, 1200)\n",
      "wheretheressmoke: lagged shape = (291, 1200)\n",
      "jugglingandjesus: lagged shape = (193, 1200)\n",
      "mybackseatviewofagreatromance: lagged shape = (384, 1200)\n",
      "buck: lagged shape = (332, 1200)\n",
      "findingmyownrescuer: lagged shape = (372, 1200)\n",
      "threemonths: lagged shape = (353, 1200)\n",
      "theshower: lagged shape = (392, 1200)\n",
      "afatherscover: lagged shape = (312, 1200)\n",
      "vixenandtheussr: lagged shape = (391, 1200)\n",
      "becomingindian: lagged shape = (388, 1200)\n",
      "penpal: lagged shape = (255, 1200)\n",
      "notontheusualtour: lagged shape = (245, 1200)\n",
      "backsideofthestorm: lagged shape = (345, 1200)\n",
      "inamoment: lagged shape = (205, 1200)\n",
      "fromboyhoodtofatherhood: lagged shape = (348, 1200)\n",
      "catfishingstrangerstofindmyself: lagged shape = (326, 1200)\n",
      "thetiniestbouquet: lagged shape = (171, 1200)\n",
      "reachingoutbetweenthebars: lagged shape = (296, 1200)\n",
      "canadageeseandddp: lagged shape = (430, 1200)\n",
      "gangstersandcookies: lagged shape = (256, 1200)\n",
      "sloth: lagged shape = (437, 1200)\n",
      "naked: lagged shape = (422, 1200)\n",
      "adventuresinsayingyes: lagged shape = (391, 1200)\n",
      "canplanetearthfeedtenbillionpeoplepart3: lagged shape = (429, 1200)\n",
      "goingthelibertyway: lagged shape = (394, 1200)\n",
      "thumbsup: lagged shape = (414, 1200)\n",
      "stagefright: lagged shape = (293, 1200)\n",
      "thatthingonmyarm: lagged shape = (434, 1200)\n",
      "thesurprisingthingilearnedsailingsoloaroundtheworld: lagged shape = (480, 1200)\n",
      "goldiethegoldfish: lagged shape = (317, 1200)\n",
      "tildeath: lagged shape = (323, 1200)\n",
      "onapproachtopluto: lagged shape = (271, 1200)\n",
      "metsmagic: lagged shape = (228, 1200)\n",
      "marryamanwholoveshismother: lagged shape = (355, 1200)\n",
      "legacy: lagged shape = (400, 1200)\n",
      "whyimustspeakoutaboutclimatechange: lagged shape = (511, 1200)\n",
      "quietfire: lagged shape = (455, 1200)\n",
      "alternateithicatom: lagged shape = (343, 1200)\n",
      "treasureisland: lagged shape = (394, 1200)\n",
      "lifeanddeathontheoregontrail: lagged shape = (361, 1200)\n",
      "kiksuya: lagged shape = (332, 1200)\n",
      "food: lagged shape = (370, 1200)\n",
      "igrewupinthewestborobaptistchurch: lagged shape = (439, 1200)\n",
      "lifereimagined: lagged shape = (327, 1200)\n",
      "thesecrettomarriage: lagged shape = (292, 1200)\n",
      "beneaththemushroomcloud: lagged shape = (342, 1200)\n",
      "lawsthatchokecreativity: lagged shape = (434, 1200)\n",
      "escapingfromadirediagnosis: lagged shape = (343, 1200)\n",
      "undertheinfluence: lagged shape = (304, 1200)\n",
      "avatar: lagged shape = (367, 1200)\n",
      "whenmothersbullyback: lagged shape = (307, 1200)\n",
      "wildwomenanddancingqueens: lagged shape = (189, 1200)\n",
      "googlingstrangersandkentuckybluegrass: lagged shape = (434, 1200)\n",
      "christmas1940: lagged shape = (243, 1200)\n",
      "sweetaspie: lagged shape = (157, 1200)\n",
      "birthofanation: lagged shape = (264, 1200)\n",
      "tetris: lagged shape = (280, 1200)\n",
      "thetriangleshirtwaistconnection: lagged shape = (202, 1200)\n",
      "souls: lagged shape = (355, 1200)\n",
      "life: lagged shape = (430, 1200)\n",
      "afearstrippedbare: lagged shape = (427, 1200)\n",
      "thepostmanalwayscalls: lagged shape = (454, 1200)\n",
      "firetestforlove: lagged shape = (318, 1200)\n"
     ]
    }
   ],
   "source": [
    "# ----- 3. Create lagged versons of the features\n",
    "\n",
    "# apply make_delayed to all stories in X_trimmed\n",
    "X_w2v_lagged = {}\n",
    "\n",
    "for story in X_trimmed:\n",
    "    try:\n",
    "        X_w2v_lagged[story] = make_delayed(X_trimmed[story], delays=[1, 2, 3, 4])\n",
    "        print(f\"{story}: lagged shape = {X_w2v_lagged[story].shape}\")\n",
    "    except Exception as e:\n",
    "        print(f\"Error for {story}: {e}\") # expected shape: (T, 1200)"
   ]
  },
  {
   "cell_type": "markdown",
   "id": "61a2e886-d1d5-46fa-85c9-46c0072d55d9",
   "metadata": {},
   "source": [
    "# Part2: Modeling"
   ]
  },
  {
   "cell_type": "code",
   "execution_count": 37,
   "id": "4ef547c9-09d2-4e32-9822-f604c5eab809",
   "metadata": {},
   "outputs": [
    {
     "name": "stdout",
     "output_type": "stream",
     "text": [
      "Before NaN removal: X_train (28644, 1200), Y_train (28644, 94251)\n",
      "After NaN removal: X_train (27867, 1200), Y_train (27867, 94251)\n",
      "Model saved to: ../results/ridge_word2vec_subject2.pkl\n"
     ]
    }
   ],
   "source": [
    "# ----- Stack training data -----\n",
    "X_train = []\n",
    "Y_train = []\n",
    "\n",
    "for story in train_stories:\n",
    "    if story in X_w2v_lagged and story in Y_trimmed:\n",
    "        X_train.append(X_w2v_lagged[story])\n",
    "        Y_train.append(Y_trimmed[story])\n",
    "\n",
    "X_train = np.vstack(X_train)\n",
    "Y_train = np.vstack(Y_train)\n",
    "\n",
    "print(f\"Before NaN removal: X_train {X_train.shape}, Y_train {Y_train.shape}\")\n",
    "\n",
    "# ----- Remove NaNs from Y_train -----\n",
    "# Create mask for rows with no NaN values in Y\n",
    "mask = ~np.isnan(Y_train).any(axis=1)\n",
    "\n",
    "# Apply the mask to both X and Y\n",
    "X_train_clean = X_train[mask]\n",
    "Y_train_clean = Y_train[mask]\n",
    "\n",
    "print(f\"After NaN removal: X_train {X_train_clean.shape}, Y_train {Y_train_clean.shape}\")\n",
    "\n",
    "# ----- Fit Ridge regression -----\n",
    "from sklearn.linear_model import Ridge\n",
    "import pickle\n",
    "import os\n",
    "\n",
    "ridge = Ridge(alpha=100.0)\n",
    "ridge.fit(X_train_clean, Y_train_clean)\n",
    "\n",
    "# Go up one level from 'code/' to reach 'results/'\n",
    "save_dir = os.path.join(\"..\", \"results\")\n",
    "os.makedirs(save_dir, exist_ok=True)\n",
    "\n",
    "model_path = os.path.join(save_dir, \"ridge_word2vec_subject2.pkl\")\n",
    "\n",
    "with open(model_path, \"wb\") as f:\n",
    "    pickle.dump(ridge, f)\n",
    "\n",
    "print(f\"Model saved to: {model_path}\")\n"
   ]
  },
  {
   "cell_type": "code",
   "execution_count": 39,
   "id": "eece4db9-62ab-4a23-956e-4084849660ee",
   "metadata": {},
   "outputs": [
    {
     "name": "stdout",
     "output_type": "stream",
     "text": [
      "Mean CC: 0.0039\n",
      "Median CC: 0.0036\n",
      "Top 1% CC: 0.0410\n",
      "Top 5% CC: 0.0284\n"
     ]
    }
   ],
   "source": [
    "# ----- Evaluate on test set -----\n",
    "\n",
    "def compute_cc(y_true, y_pred):\n",
    "    cc_vals = []\n",
    "    for v in range(y_true.shape[1]):  # for each voxel\n",
    "        cc, _ = pearsonr(y_true[:, v], y_pred[:, v])\n",
    "        cc_vals.append(cc)\n",
    "    return np.array(cc_vals)\n",
    "\n",
    "X_test = []\n",
    "Y_test = []\n",
    "\n",
    "for story in test_stories:\n",
    "    if story in X_w2v_lagged and story in Y_trimmed:\n",
    "        X_test.append(X_w2v_lagged[story])\n",
    "        Y_test.append(Y_trimmed[story])\n",
    "\n",
    "X_test = np.vstack(X_test)\n",
    "Y_test = np.vstack(Y_test)\n",
    "\n",
    "Y_pred = ridge.predict(X_test)\n",
    "\n",
    "ccs = compute_cc(Y_test, Y_pred)\n",
    "\n",
    "print(f\"Mean CC: {np.mean(ccs):.4f}\")\n",
    "print(f\"Median CC: {np.median(ccs):.4f}\")\n",
    "print(f\"Top 1% CC: {np.percentile(ccs, 99):.4f}\")\n",
    "print(f\"Top 5% CC: {np.percentile(ccs, 95):.4f}\")\n"
   ]
  },
  {
   "cell_type": "code",
   "execution_count": 40,
   "id": "7d896417-37b0-4729-89ee-b511fea4d7e3",
   "metadata": {},
   "outputs": [
    {
     "name": "stdout",
     "output_type": "stream",
     "text": [
      "Plot saved to: ../results/cc_distribution_word2vec_subject2_pretty.png\n"
     ]
    },
    {
     "data": {
      "image/png": "[encoded data removed]",
      "text/plain": [
       "<Figure size 1200x600 with 1 Axes>"
      ]
     },
     "metadata": {},
     "output_type": "display_data"
    }
   ],
   "source": [
    "import matplotlib.pyplot as plt\n",
    "import seaborn as sns\n",
    "import numpy as np\n",
    "\n",
    "# Remove NaNs\n",
    "valid_ccs = ccs[~np.isnan(ccs)]\n",
    "\n",
    "# Set plot style\n",
    "sns.set(style=\"whitegrid\", font_scale=1.2)\n",
    "\n",
    "# Create figure\n",
    "plt.figure(figsize=(12, 6))\n",
    "\n",
    "# Plot histogram\n",
    "sns.histplot(valid_ccs, bins=100, kde=True, color=\"#4A90E2\", edgecolor=\"black\", stat=\"count\")\n",
    "\n",
    "# Add vertical lines for mean and median\n",
    "plt.axvline(np.mean(valid_ccs), color='red', linestyle='--', label=f\"Mean: {np.mean(valid_ccs):.3f}\")\n",
    "plt.axvline(np.median(valid_ccs), color='green', linestyle='-.', label=f\"Median: {np.median(valid_ccs):.3f}\")\n",
    "\n",
    "# Titles and labels\n",
    "plt.title(\"Voxel-wise Correlation Coefficient (CC) Distribution\", fontsize=16, weight=\"bold\")\n",
    "plt.xlabel(\"Correlation Coefficient\", fontsize=13)\n",
    "plt.ylabel(\"Number of Voxels\", fontsize=13)\n",
    "plt.legend()\n",
    "plt.tight_layout()\n",
    "\n",
    "save_dir = os.path.join(\"..\", \"results\")\n",
    "os.makedirs(save_dir, exist_ok=True)\n",
    "\n",
    "plot_path = os.path.join(save_dir, \"cc_distribution_word2vec_subject2_pretty.png\")\n",
    "plt.savefig(plot_path, dpi=300)\n",
    "\n",
    "print(f\"Plot saved to: {plot_path}\")\n"
   ]
  }
 ],
 "metadata": {
  "kernelspec": {
   "display_name": "Python 3 (ipykernel)",
   "language": "python",
   "name": "python3"
  },
  "language_info": {
   "codemirror_mode": {
    "name": "ipython",
    "version": 3
   },
   "file_extension": ".py",
   "mimetype": "text/x-python",
   "name": "python",
   "nbconvert_exporter": "python",
   "pygments_lexer": "ipython3",
   "version": "3.12.7"
  }
 },
 "nbformat": 4,
 "nbformat_minor": 5
}
